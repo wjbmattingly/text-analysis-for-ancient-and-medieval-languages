{
 "cells": [
  {
   "cell_type": "code",
   "execution_count": null,
   "id": "marine-arrangement",
   "metadata": {},
   "outputs": [],
   "source": [
    "!pip install requests"
   ]
  },
  {
   "cell_type": "code",
   "execution_count": null,
   "id": "normal-salon",
   "metadata": {},
   "outputs": [],
   "source": [
    "!pip install pip install beautifulsoup4"
   ]
  },
  {
   "cell_type": "code",
   "execution_count": 1,
   "id": "burning-climate",
   "metadata": {},
   "outputs": [],
   "source": [
    "import requests\n",
    "from bs4 import BeautifulSoup\n",
    "import json\n",
    "import glob"
   ]
  },
  {
   "cell_type": "code",
   "execution_count": 2,
   "id": "parallel-guyana",
   "metadata": {},
   "outputs": [],
   "source": [
    "def load_data(file):\n",
    "    with open (file, \"r\", encoding=\"utf-8\") as f:\n",
    "        data = json.load(f)\n",
    "    return (data)\n",
    "\n",
    "def write_data(file, data):\n",
    "    with open (file, \"w\", encoding=\"utf-8\") as f:\n",
    "        json.dump(data, f, indent=4)"
   ]
  },
  {
   "cell_type": "code",
   "execution_count": 3,
   "id": "electoral-matthew",
   "metadata": {},
   "outputs": [],
   "source": [
    "def get_nomina():\n",
    "    url = \"https://en.wikipedia.org/wiki/List_of_Roman_nomina\"\n",
    "    s = requests.get(url).content\n",
    "    soup = BeautifulSoup(s, \"lxml\")\n",
    "    final = []\n",
    "    sections = soup.find_all(\"div\", {\"class\": \"div-col\"})\n",
    "    for section in sections:\n",
    "        names = section.find_all(\"li\")\n",
    "        for name in names:\n",
    "            try:\n",
    "                name = name.text.split()[0].split(\"[\")[0].strip()\n",
    "                final.append(name)\n",
    "            except:\n",
    "                AttributeError\n",
    "                print (name)\n",
    "    write_data(\"data/nomina.json\", final)"
   ]
  },
  {
   "cell_type": "code",
   "execution_count": 4,
   "id": "resident-overhead",
   "metadata": {},
   "outputs": [],
   "source": [
    "def get_cognomina():\n",
    "    url = \"https://en.wikipedia.org/wiki/List_of_Roman_cognomina\"\n",
    "    s = requests.get(url).content\n",
    "    soup = BeautifulSoup(s, \"lxml\")\n",
    "    final = []\n",
    "    sections = soup.find_all(\"p\")\n",
    "    for section in sections:\n",
    "        names = section.find_all(\"a\")\n",
    "        for name in names:\n",
    "            try:\n",
    "                name = name.text.split()[0].strip()\n",
    "                if name != \"cognomina\":\n",
    "                    final.append(name)\n",
    "            except:\n",
    "                AttributeError\n",
    "                print (name)\n",
    "    write_data(\"data/cognomen.json\", final)"
   ]
  },
  {
   "cell_type": "code",
   "execution_count": 6,
   "id": "retired-flooring",
   "metadata": {},
   "outputs": [],
   "source": [
    "def get_praenomina():\n",
    "    final = []\n",
    "    with open (\"data/praenomina.txt\", \"r\", encoding=\"utf-8\") as f:\n",
    "        lines = f.readlines()\n",
    "\n",
    "        for line in lines:\n",
    "            line = line.replace(\"\\n\", \"\").replace(\")\", \"\")\n",
    "            names = line.split(\"(\")\n",
    "            for name in names:\n",
    "                if \",\" not in name and \"or\" not in name:\n",
    "                    name = name.strip()\n",
    "                    if name != \"\":\n",
    "                        final.append(name)\n",
    "                else:\n",
    "                    if \",\" in name:\n",
    "                        more = name.split(\",\")\n",
    "                        for item in more:\n",
    "                            item = item.strip()\n",
    "                            if item != \"\":\n",
    "                                final.append(item)\n",
    "                    else:\n",
    "                        more = name.split(\"or\")\n",
    "                        for item in more:\n",
    "                            item = item.strip()\n",
    "                            if item != \"\":\n",
    "                                final.append(item)\n",
    "\n",
    "    abs = []\n",
    "    non_abs = []\n",
    "    for name in final:\n",
    "        if \".\" in name:\n",
    "            abs.append(name)\n",
    "        else:\n",
    "            non_abs.append(name)\n",
    "    abs = list(set(abs))\n",
    "    non_abs = list(set(non_abs))\n",
    "    final = list(set(final))\n",
    "\n",
    "    abs.sort()\n",
    "    non_abs.sort()\n",
    "    final.sort()\n",
    "    write_data(\"latin_data/praenomina.json\", final)\n",
    "    write_data(\"latin_data/praenomina_abs.json\", abs)\n",
    "    write_data(\"latin_data/praenomina_nonabs.json\", non_abs)"
   ]
  },
  {
   "cell_type": "code",
   "execution_count": null,
   "id": "saved-input",
   "metadata": {},
   "outputs": [],
   "source": [
    "# get_nomina()\n",
    "# get_cognomina()\n",
    "# get_praenomina()"
   ]
  },
  {
   "cell_type": "code",
   "execution_count": null,
   "id": "preliminary-technique",
   "metadata": {},
   "outputs": [],
   "source": []
  },
  {
   "cell_type": "code",
   "execution_count": null,
   "id": "adult-diversity",
   "metadata": {},
   "outputs": [],
   "source": []
  }
 ],
 "metadata": {
  "kernelspec": {
   "display_name": "Python 3",
   "language": "python",
   "name": "python3"
  },
  "language_info": {
   "codemirror_mode": {
    "name": "ipython",
    "version": 3
   },
   "file_extension": ".py",
   "mimetype": "text/x-python",
   "name": "python",
   "nbconvert_exporter": "python",
   "pygments_lexer": "ipython3",
   "version": "3.9.2"
  }
 },
 "nbformat": 4,
 "nbformat_minor": 5
}

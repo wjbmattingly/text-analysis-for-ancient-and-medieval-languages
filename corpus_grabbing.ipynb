{
 "cells": [
  {
   "cell_type": "code",
   "execution_count": null,
   "id": "final-wells",
   "metadata": {},
   "outputs": [],
   "source": [
    "#Optional Corpus to download"
   ]
  },
  {
   "cell_type": "code",
   "execution_count": null,
   "id": "laughing-cornell",
   "metadata": {},
   "outputs": [],
   "source": [
    "!pip install \"cltk==0.1.41\""
   ]
  },
  {
   "cell_type": "code",
   "execution_count": null,
   "id": "considered-opposition",
   "metadata": {},
   "outputs": [],
   "source": [
    "from cltk.corpus.utils.importer import CorpusImporter"
   ]
  },
  {
   "cell_type": "code",
   "execution_count": null,
   "id": "satisfied-vaccine",
   "metadata": {},
   "outputs": [],
   "source": [
    "corpus_importer = CorpusImporter('latin')"
   ]
  },
  {
   "cell_type": "code",
   "execution_count": null,
   "id": "senior-housing",
   "metadata": {},
   "outputs": [],
   "source": [
    "corpus_importer.list_corpora"
   ]
  },
  {
   "cell_type": "code",
   "execution_count": null,
   "id": "confused-maldives",
   "metadata": {},
   "outputs": [],
   "source": [
    "corpus_importer.import_corpus('latin_text_latin_library')"
   ]
  },
  {
   "cell_type": "code",
   "execution_count": null,
   "id": "upset-challenge",
   "metadata": {},
   "outputs": [],
   "source": [
    "import os\n",
    "all_files = list()\n",
    "for (dirpath, dirnames, filenames) in os.walk(r\"cltk_data/latin/text/latin_text_latin_library\"):\n",
    "    all_files += [os.path.join(dirpath, file) for file in filenames]"
   ]
  },
  {
   "cell_type": "code",
   "execution_count": null,
   "id": "mineral-study",
   "metadata": {},
   "outputs": [],
   "source": [
    "all_texts = []\n",
    "for file in all_files:\n",
    "    with open (file, \"r\", encoding=\"utf-8\", errors=\"ignore\") as f:\n",
    "        data = f.read()\n",
    "        all_texts.append(data)"
   ]
  },
  {
   "cell_type": "code",
   "execution_count": null,
   "id": "social-crystal",
   "metadata": {},
   "outputs": [],
   "source": [
    "print (len(all_texts))\n",
    "corpus = \" \".join(all_texts)"
   ]
  },
  {
   "cell_type": "code",
   "execution_count": null,
   "id": "perceived-haiti",
   "metadata": {},
   "outputs": [],
   "source": [
    "with open (\"latin_library.txt\", \"w\", encoding=\"utf-8\") as f:\n",
    "    f.write(corpus)"
   ]
  },
  {
   "cell_type": "code",
   "execution_count": null,
   "id": "grave-uniform",
   "metadata": {},
   "outputs": [],
   "source": []
  }
 ],
 "metadata": {
  "kernelspec": {
   "display_name": "Python 3",
   "language": "python",
   "name": "python3"
  },
  "language_info": {
   "codemirror_mode": {
    "name": "ipython",
    "version": 3
   },
   "file_extension": ".py",
   "mimetype": "text/x-python",
   "name": "python",
   "nbconvert_exporter": "python",
   "pygments_lexer": "ipython3",
   "version": "3.9.2"
  }
 },
 "nbformat": 4,
 "nbformat_minor": 5
}

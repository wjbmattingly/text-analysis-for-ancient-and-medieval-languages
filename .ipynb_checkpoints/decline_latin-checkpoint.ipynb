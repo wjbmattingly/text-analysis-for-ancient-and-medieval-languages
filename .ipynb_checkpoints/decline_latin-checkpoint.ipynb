{
 "cells": [
  {
   "cell_type": "code",
   "execution_count": 2,
   "id": "interracial-appointment",
   "metadata": {},
   "outputs": [],
   "source": [
    "import json\n",
    "import glob"
   ]
  },
  {
   "cell_type": "code",
   "execution_count": 3,
   "id": "latter-dictionary",
   "metadata": {},
   "outputs": [],
   "source": [
    "def load_data(file):\n",
    "    with open (file, \"r\", encoding=\"utf-8\") as f:\n",
    "        data = json.load(f)\n",
    "    return (data)\n",
    "\n",
    "def write_data(file, data):\n",
    "    with open (file, \"w\", encoding=\"utf-8\") as f:\n",
    "        json.dump(data, f, indent=4)"
   ]
  },
  {
   "cell_type": "code",
   "execution_count": 4,
   "id": "ready-newsletter",
   "metadata": {},
   "outputs": [],
   "source": [
    "first = [\"a\", \"am\", \"e\", \"ae\"]\n",
    "sec = [\"us\", \"um\", \"e\", \"i\", \"o\"]\n",
    "third = [\"em\", \"is\", \"i\", \"e\"]\n",
    "\n",
    "first_plurals = [\"ae\", \"as\", \"arum\", \"is\"]\n",
    "sec_plurals = [\"i\", \"os\", \"orum\", \"is\"]\n",
    "third_plurals = [\"es\", \"ibus\", \"es\"]"
   ]
  },
  {
   "cell_type": "code",
   "execution_count": 5,
   "id": "clinical-sherman",
   "metadata": {},
   "outputs": [],
   "source": [
    "def third_rules(name):\n",
    "    forms = [name]\n",
    "    if name[-1] == \"s\":\n",
    "        new = name[0:-1]+\"t\"\n",
    "    elif name[-1] == \"o\":\n",
    "        new = name+\"n\"\n",
    "    elif name[-2:] == \"es\":\n",
    "        new = name[0:-2]\n",
    "    else:\n",
    "        new=name\n",
    "    for form in third:\n",
    "        forms.append (new+form)\n",
    "    for form in sec:\n",
    "        forms.append (new+form)\n",
    "    return (forms)"
   ]
  },
  {
   "cell_type": "code",
   "execution_count": 6,
   "id": "contrary-collaboration",
   "metadata": {},
   "outputs": [],
   "source": [
    "def declinsion(name):\n",
    "    if name[-1] == \"a\":\n",
    "        declinsion=1\n",
    "    elif name[-2:] == \"us\":\n",
    "        declinsion=2\n",
    "    else:\n",
    "        declinsion=3\n",
    "    return (declinsion)"
   ]
  },
  {
   "cell_type": "code",
   "execution_count": 7,
   "id": "afraid-sunglasses",
   "metadata": {},
   "outputs": [],
   "source": [
    "def decline_all(file):\n",
    "    with open (file, \"r\", encoding=\"utf-8\") as f:\n",
    "        names = json.load(f)\n",
    "    all = []\n",
    "    for word in names:\n",
    "        forms = []\n",
    "        dec = declinsion(word)\n",
    "        if dec == 1:\n",
    "            for form in first:\n",
    "                new = word[:-1]+form\n",
    "                forms.append(new)\n",
    "        elif dec == 2:\n",
    "            for form in sec:\n",
    "                new = word[:-2]+form\n",
    "                forms.append(new)\n",
    "        elif dec == 3:\n",
    "            new = third_rules(word)\n",
    "            for form in new:\n",
    "                forms.append(form)\n",
    "        for form in forms:\n",
    "            all.append(form)\n",
    "    return (all)"
   ]
  },
  {
   "cell_type": "code",
   "execution_count": 8,
   "id": "underlying-enforcement",
   "metadata": {},
   "outputs": [],
   "source": [
    "def decline_plurals(file):\n",
    "    final = []\n",
    "    words = load_data(file)\n",
    "    for word in words:\n",
    "        if word[-2:] == \"ae\":\n",
    "            root = word[:-2]\n",
    "            for ending in first_plurals:\n",
    "                final.append (root+ending)\n",
    "        elif word[-1:] == \"i\":\n",
    "            root = word[:-1]\n",
    "            for ending in sec_plurals:\n",
    "                final.append (root+ending)\n",
    "        elif word[-2:] == \"es\":\n",
    "            root = word[:-2]\n",
    "            for ending in third_plurals:\n",
    "                final.append (root+ending)\n",
    "        else:\n",
    "            pass\n",
    "    return (final)"
   ]
  },
  {
   "cell_type": "code",
   "execution_count": null,
   "id": "damaged-angle",
   "metadata": {},
   "outputs": [],
   "source": [
    "places = decline_all(\"latin_data/places.json\")\n",
    "places = list(set(places))\n",
    "places.sort()\n",
    "write_data(\"latin_data/places_declined.json\", places)\n",
    "\n",
    "groups_declined = decline_plurals(\"dalatin_datata/groups.json\")\n",
    "write_data(\"latin_data/groups_declined.json\", groups_declined)\n",
    "\n",
    "cognomina = decline_all(\"latin_data/cognomina.json\")\n",
    "nomina = decline_all(\"latin_data/nomina.json\")\n",
    "praenomina = decline_all(\"latin_data/praenomina_nonabs.json\")\n",
    "praenomina_abs = load_data(\"latin_data/praenomina_abs.json\")\n",
    "\n",
    "all = cognomina+nomina+praenomina+praenomina_abs\n",
    "all = list(set(all))\n",
    "all.sort()\n",
    "write_data(\"latin_data/all_names_declined.json\", all)"
   ]
  }
 ],
 "metadata": {
  "kernelspec": {
   "display_name": "Python 3",
   "language": "python",
   "name": "python3"
  },
  "language_info": {
   "codemirror_mode": {
    "name": "ipython",
    "version": 3
   },
   "file_extension": ".py",
   "mimetype": "text/x-python",
   "name": "python",
   "nbconvert_exporter": "python",
   "pygments_lexer": "ipython3",
   "version": "3.9.2"
  }
 },
 "nbformat": 4,
 "nbformat_minor": 5
}
